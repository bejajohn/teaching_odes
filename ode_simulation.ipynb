{
 "cells": [
  {
   "cell_type": "markdown",
   "metadata": {},
   "source": [
    "# CASE STUDY 1: Fish pond population\n",
    "\n",
    "A community has a pond that is stocked with 30 fish every month. People fish throughout the month, catching fish at a rate proportional to how many fish are in the pond, with the proportionality constant being about 1/5 per month. At time $𝑡 = 0$ there are 20 fish in the pond. How will the population of fish in the pond change over time? \n",
    "\n",
    "**Step 1**: Let's start by simulating this scenario! Execute the next three cells. (Run the third cell multiple times until you start seeing a trend in the population size)"
   ]
  },
  {
   "cell_type": "markdown",
   "metadata": {},
   "source": [
    "### Import libraries"
   ]
  },
  {
   "cell_type": "code",
   "execution_count": null,
   "metadata": {},
   "outputs": [],
   "source": [
    "# simulation\n",
    "import numpy as np\n",
    "import pandas as pd\n",
    "\n",
    "# visualization\n",
    "import matplotlib.pyplot as plt\n",
    "import seaborn as sns; sns.set(font_scale=2)"
   ]
  },
  {
   "cell_type": "markdown",
   "metadata": {},
   "source": [
    "### Initialize population"
   ]
  },
  {
   "cell_type": "code",
   "execution_count": null,
   "metadata": {},
   "outputs": [],
   "source": [
    "# initialize the population \n",
    "t = 0\n",
    "number_of_fish = 20\n",
    "fish_added = 30\n",
    "\n",
    "# create the dataframe\n",
    "fish_data = pd.DataFrame([[t,number_of_fish]], columns=['time','number_of_fish'])"
   ]
  },
  {
   "cell_type": "markdown",
   "metadata": {},
   "source": [
    "### Run the simulation\n",
    "\n",
    "Run the following cell numerous times until you get a feel for what is going in with the fish population. "
   ]
  },
  {
   "cell_type": "code",
   "execution_count": null,
   "metadata": {},
   "outputs": [],
   "source": [
    "# next month\n",
    "t = t + 1\n",
    "\n",
    "# simulate fishing\n",
    "fish_status = np.random.randint(5, size = number_of_fish)\n",
    "\n",
    "# count number of fish caught\n",
    "number_caught = (fish_status == 1).sum()\n",
    "\n",
    "# remove caught fish from the pond and add the stocked fish\n",
    "number_of_fish = number_of_fish - number_caught + fish_added\n",
    "\n",
    "# add to dataset\n",
    "fish_data = fish_data.append(pd.DataFrame([[t,number_of_fish]], \n",
    "            columns=['time','number_of_fish']), ignore_index = False)\n",
    "\n",
    "# print results for this month\n",
    "print('number of fish caught:', number_caught)\n",
    "print('number of fish in pond:', number_of_fish)\n",
    "\n",
    "# plot results\n",
    "sns.lmplot(x = 'time', y = 'number_of_fish', data = fish_data, \n",
    "           fit_reg = False, scatter_kws={\"s\":80});\n",
    "plt.xlim(-1,40);\n",
    "plt.ylim(0,180);\n"
   ]
  },
  {
   "cell_type": "markdown",
   "metadata": {},
   "source": [
    "**Step 2**: Solve the differential equation for this problem, and plot the solution (execute the following cell). Does the ODE solution match the data? "
   ]
  },
  {
   "cell_type": "markdown",
   "metadata": {},
   "source": [
    "### Plot the data with the ODE solution"
   ]
  },
  {
   "cell_type": "code",
   "execution_count": null,
   "metadata": {},
   "outputs": [],
   "source": [
    "tt = fish_data['time'].to_numpy()\n",
    "ode_fish = - 130 * np.exp( - 1 / 5 * tt) + 150\n",
    "\n",
    "# plot results\n",
    "sns.lmplot(x = 'time', y = 'number_of_fish', data = fish_data, \n",
    "           fit_reg = False, scatter_kws={\"s\":80});\n",
    "plt.plot(tt, ode_fish,linewidth = 2, color = 'k')\n",
    "plt.xlim(-1,40);\n",
    "plt.ylim(0,180);"
   ]
  },
  {
   "cell_type": "markdown",
   "metadata": {},
   "source": [
    "# CASE STUDY 2:Thanksgiving turkey\n",
    "\n",
    "On thanksgiving, my family made a turkey. The turkey was at 40$^\\circ$F when it was placed in the oven set at 325$^\\circ$F.  After 20 minutes, the turkey was at 60$^\\circ$F. How long did it take for the turkey to be done (180$^\\circ$F)?\n",
    "\n",
    "**Step 1**: Run the following cell, and vary the parameters (sliders) in the interactive plot below. What do you notice about the effect of the initial temperature, temperature of the environment, and heating rate?"
   ]
  },
  {
   "cell_type": "code",
   "execution_count": null,
   "metadata": {
    "scrolled": true
   },
   "outputs": [],
   "source": [
    "%matplotlib notebook\n",
    "import numpy as np\n",
    "import matplotlib.pyplot as plt\n",
    "from matplotlib.widgets import Slider, Button\n",
    "\n",
    "\n",
    "# The parametrized function to be plotted\n",
    "def f(t, constant, cooling_rate, temp_env):\n",
    "    return (constant - temp_env) * np.exp(- cooling_rate * t) + temp_env\n",
    "\n",
    "t = np.linspace(0, 250, 1000)\n",
    "\n",
    "# Define initial parameters\n",
    "init_constant = 40\n",
    "init_temp_env = 325\n",
    "init_cooling_rate = 0.005\n",
    "\n",
    "# Create the figure and the line that we will manipulate\n",
    "fig, ax = plt.subplots()\n",
    "line, = ax.plot(t, f(t, init_constant, init_cooling_rate, init_temp_env), lw=2)\n",
    "plt.ylim(0,450)\n",
    "\n",
    "# adjust the main plot to make room for the sliders\n",
    "fig.subplots_adjust(left=0.25, bottom=0.25)\n",
    "\n",
    "# Make a horizontal slider to control the frequency.\n",
    "axcool = fig.add_axes([0.25, 0.05, 0.65, 0.03])\n",
    "cool_slider = Slider(\n",
    "    ax=axcool,\n",
    "    label='cooling/heating rate',\n",
    "    valmin=0.0,\n",
    "    valmax=0.05,\n",
    "    valinit=init_cooling_rate,\n",
    ")\n",
    "\n",
    "# Make a horizontal slider to control the frequency.\n",
    "axcool2 = fig.add_axes([0.25, 0.11, 0.65, 0.03])\n",
    "cool_slider2 = Slider(\n",
    "    ax=axcool2,\n",
    "    label='temp of environment',\n",
    "    valmin=0,\n",
    "    valmax=450,\n",
    "    valinit=init_temp_env,\n",
    ")\n",
    "\n",
    "# Make a vertically oriented slider to control the amplitude\n",
    "axaconst = fig.add_axes([0.1, 0.25, 0.0225, 0.63])\n",
    "const_slider = Slider(\n",
    "    ax=axaconst,\n",
    "    label=\"initial temp\",\n",
    "    valmin=0,\n",
    "    valmax=300,\n",
    "    valinit=init_constant,\n",
    "    orientation=\"vertical\"\n",
    ")\n",
    "\n",
    "\n",
    "# The function to be called anytime a slider's value changes\n",
    "def update(val):\n",
    "    line.set_ydata(f(t, const_slider.val, cool_slider.val , cool_slider2.val))\n",
    "    fig.canvas.draw_idle()\n",
    "\n",
    "\n",
    "# register the update function with each slider\n",
    "cool_slider.on_changed(update)\n",
    "cool_slider2.on_changed(update)\n",
    "const_slider.on_changed(update)\n",
    "\n",
    "# Create a `matplotlib.widgets.Button` to reset the sliders to initial values.\n",
    "resetax = fig.add_axes([0.8, 0.025, 0.1, 0.04])\n",
    "button = Button(resetax, 'Reset', hovercolor='0.975')\n",
    "\n",
    "# Reset options\n",
    "def reset(event):\n",
    "    cool_slider.reset()\n",
    "    cool_slider2.reset()\n",
    "    const_slider.reset()\n",
    "button.on_clicked(reset)\n",
    "\n",
    "plt.show()"
   ]
  },
  {
   "cell_type": "markdown",
   "metadata": {},
   "source": [
    "**Step 2**: Solve the differential equation for this problem and plot the solution. When was the done?"
   ]
  },
  {
   "cell_type": "code",
   "execution_count": null,
   "metadata": {},
   "outputs": [],
   "source": [
    "# Variables \n",
    "initial_temperature = 40\n",
    "temperature_environment = 325\n",
    "cooling_heating_rate = 0.0036379 #ENTER YOUR SOLUTION HERE\n",
    "\n",
    "\n",
    "# Create the figure and the line that we will manipulate\n",
    "fig, ax = plt.subplots()\n",
    "line, = ax.plot(t, f(t, initial_temperature, cooling_heating_rate, temperature_environment), lw=2);\n",
    "ax.scatter([0, 20],[40, 60]);\n",
    "ax.plot(t,180*np.ones(len(t)),'k--');\n",
    "plt.ylim(0,300);"
   ]
  }
 ],
 "metadata": {
  "kernelspec": {
   "display_name": "Python 3",
   "language": "python",
   "name": "python3"
  },
  "language_info": {
   "codemirror_mode": {
    "name": "ipython",
    "version": 3
   },
   "file_extension": ".py",
   "mimetype": "text/x-python",
   "name": "python",
   "nbconvert_exporter": "python",
   "pygments_lexer": "ipython3",
   "version": "3.8.5"
  }
 },
 "nbformat": 4,
 "nbformat_minor": 4
}

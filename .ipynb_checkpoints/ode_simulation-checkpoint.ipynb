{
 "cells": [
  {
   "cell_type": "markdown",
   "metadata": {},
   "source": [
    "# CASE STUDY 1: Fish pond population\n",
    "\n",
    "A community has a pond that is stocked with 30 fish every month. People fish throughout the month, catching fish at a rate proportional to how many fish are in the pond, with the proportionality constant being about 1/5 per month. At time $𝑡 = 0$ there are 20 fish in the pond. How will the population of fish in the pond change over time? \n",
    "\n",
    "**Step 1**: Let's start by simulating this scenario! Execute the next three cells. (Run the third cell multiple times until you start seeing a trend in the population size)"
   ]
  },
  {
   "cell_type": "markdown",
   "metadata": {},
   "source": [
    "### Import libraries"
   ]
  },
  {
   "cell_type": "code",
   "execution_count": null,
   "metadata": {},
   "outputs": [],
   "source": [
    "# simulation\n",
    "import numpy as np\n",
    "import pandas as pd\n",
    "\n",
    "# visualization\n",
    "import matplotlib.pyplot as plt\n",
    "import seaborn as sns; sns.set(font_scale=2)"
   ]
  },
  {
   "cell_type": "markdown",
   "metadata": {},
   "source": [
    "### Initialize population"
   ]
  },
  {
   "cell_type": "code",
   "execution_count": null,
   "metadata": {},
   "outputs": [],
   "source": [
    "# initialize the population \n",
    "t = 0\n",
    "number_of_fish = 20\n",
    "fish_added = 30\n",
    "\n",
    "# create the dataframe\n",
    "fish_data = pd.DataFrame([[t,number_of_fish]], columns=['time','number_of_fish'])"
   ]
  },
  {
   "cell_type": "markdown",
   "metadata": {},
   "source": [
    "### Run the simulation\n",
    "\n",
    "Run the following cell numerous times until you get a feel for what is going in with the fish population. "
   ]
  },
  {
   "cell_type": "code",
   "execution_count": null,
   "metadata": {},
   "outputs": [],
   "source": [
    "# next month\n",
    "t = t + 1\n",
    "\n",
    "# simulate fishing\n",
    "fish_status = np.random.randint(5, size = number_of_fish)\n",
    "\n",
    "# count number of fish caught\n",
    "number_caught = (fish_status == 1).sum()\n",
    "\n",
    "# remove caught fish from the pond and add the stocked fish\n",
    "number_of_fish = number_of_fish - number_caught + fish_added\n",
    "\n",
    "# add to dataset\n",
    "fish_data = fish_data.append(pd.DataFrame([[t,number_of_fish]], \n",
    "            columns=['time','number_of_fish']), ignore_index = False)\n",
    "\n",
    "# print results for this month\n",
    "print('number of fish caught:', number_caught)\n",
    "print('number of fish in pond:', number_of_fish)\n",
    "\n",
    "# plot results\n",
    "sns.lmplot(x = 'time', y = 'number_of_fish', data = fish_data, \n",
    "           fit_reg = False, scatter_kws={\"s\":80});\n",
    "plt.xlim(-1,40);\n",
    "plt.ylim(0,180);\n"
   ]
  },
  {
   "cell_type": "markdown",
   "metadata": {},
   "source": [
    "**Step 2**: Solve the differential equation for this problem, and plot the solution (execute the following cell). Does the ODE solution match the data? "
   ]
  },
  {
   "cell_type": "markdown",
   "metadata": {},
   "source": [
    "### Plot the data with the ODE solution"
   ]
  },
  {
   "cell_type": "code",
   "execution_count": null,
   "metadata": {},
   "outputs": [],
   "source": [
    "tt = fish_data['time'].to_numpy()\n",
    "ode_fish = - 130 * np.exp( - 1 / 5 * tt) + 150\n",
    "\n",
    "# plot results\n",
    "sns.lmplot(x = 'time', y = 'number_of_fish', data = fish_data, \n",
    "           fit_reg = False, scatter_kws={\"s\":80});\n",
    "plt.plot(tt, ode_fish,linewidth = 2, color = 'k')\n",
    "plt.xlim(-1,40);\n",
    "plt.ylim(0,180);"
   ]
  }
 ],
 "metadata": {
  "kernelspec": {
   "display_name": "Python 3",
   "language": "python",
   "name": "python3"
  },
  "language_info": {
   "codemirror_mode": {
    "name": "ipython",
    "version": 3
   },
   "file_extension": ".py",
   "mimetype": "text/x-python",
   "name": "python",
   "nbconvert_exporter": "python",
   "pygments_lexer": "ipython3",
   "version": "3.8.5"
  }
 },
 "nbformat": 4,
 "nbformat_minor": 4
}
